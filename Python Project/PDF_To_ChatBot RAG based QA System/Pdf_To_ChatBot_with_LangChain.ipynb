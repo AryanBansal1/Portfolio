{
 "cells": [
  {
   "cell_type": "code",
   "execution_count": 25,
   "id": "65a379ab",
   "metadata": {},
   "outputs": [],
   "source": [
    "# Importing required Library\n",
    "import pandas as pd\n",
    "import os \n",
    "from langchain_community.document_loaders import PyPDFLoader\n",
    "import langchain\n",
    "from langchain.text_splitter import RecursiveCharacterTextSplitter\n",
    "from langchain.vectorstores import Chroma\n",
    "from langchain.chains import RetrievalQA\n",
    "from langchain_google_genai import GoogleGenerativeAIEmbeddings, ChatGoogleGenerativeAI"
   ]
  },
  {
   "cell_type": "code",
   "execution_count": 16,
   "id": "5da69b2b",
   "metadata": {},
   "outputs": [],
   "source": [
    "# Loading data from PDF\n",
    "loader = PyPDFLoader(\"test_pdf.pdf\")\n",
    "pdf = loader.load()\n",
    "\n",
    "# Splitting the data\n",
    "splitter = RecursiveCharacterTextSplitter(chunk_size=200,chunk_overlap=20)\n",
    "split_doc = splitter.split_documents(pdf)"
   ]
  },
  {
   "cell_type": "code",
   "execution_count": 18,
   "id": "135ca807",
   "metadata": {},
   "outputs": [],
   "source": [
    "# Storing data in vector db\n",
    "embedding = GoogleGenerativeAIEmbeddings(\n",
    "    model=\"models/embedding-001\",\n",
    "    google_api_key=os.getenv(\"gemini_key\"))\n",
    "vectordb = Chroma.from_documents(\n",
    "    embedding=embedding,\n",
    "    documents=split_doc,\n",
    "    collection_name=\"myCollection\",\n",
    "    persist_directory=\"my_chroma_db\"\n",
    ")"
   ]
  },
  {
   "cell_type": "code",
   "execution_count": 30,
   "id": "83e62eb0",
   "metadata": {},
   "outputs": [
    {
     "name": "stdout",
     "output_type": "stream",
     "text": [
      "{'query': 'What is the main architecture proposed in this paper?', 'result': 'The main architecture proposed in this paper is the Transformer architecture.'}\n"
     ]
    }
   ],
   "source": [
    "# Retriving data\n",
    "retriever = vectordb.as_retriever(search_kwargs={\"k\":1})\n",
    "\n",
    "# Making LLM Wrapper\n",
    "llm = ChatGoogleGenerativeAI(\n",
    "    model = \"gemini-2.0-flash\",\n",
    "    google_api_key=os.getenv(\"gemini_key\")\n",
    ")\n",
    "# Embedding it in chain\n",
    "qa = RetrievalQA.from_chain_type(\n",
    "    llm= llm,\n",
    "    retriever=retriever,\n",
    "    chain_type=\"stuff\"\n",
    ")\n",
    "\n",
    "result =qa.invoke(\"What is the main architecture proposed in this paper?\")\n",
    "print(result)\n"
   ]
  }
 ],
 "metadata": {
  "kernelspec": {
   "display_name": "Python 3",
   "language": "python",
   "name": "python3"
  },
  "language_info": {
   "codemirror_mode": {
    "name": "ipython",
    "version": 3
   },
   "file_extension": ".py",
   "mimetype": "text/x-python",
   "name": "python",
   "nbconvert_exporter": "python",
   "pygments_lexer": "ipython3",
   "version": "3.11.5"
  }
 },
 "nbformat": 4,
 "nbformat_minor": 5
}
