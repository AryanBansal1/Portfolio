{
 "cells": [
  {
   "cell_type": "code",
   "execution_count": 15,
   "id": "96969785",
   "metadata": {},
   "outputs": [],
   "source": [
    "\n",
    "from langchain.document_loaders import PyPDFLoader\n",
    "from langchain.text_splitter import RecursiveCharacterTextSplitter\n",
    "import pandas as pd\n",
    "import os\n",
    "from langchain_community.vectorstores import Chroma\n",
    "from langchain_google_genai import ChatGoogleGenerativeAI\n",
    "from langchain_huggingface import HuggingFaceEmbeddings\n",
    "from langchain_huggingface import HuggingFaceEndpoint\n",
    "from langchain.chains import LLMChain\n",
    "from langchain.prompts import PromptTemplate"
   ]
  },
  {
   "cell_type": "code",
   "execution_count": 2,
   "id": "f587c82e",
   "metadata": {},
   "outputs": [],
   "source": [
    "\n",
    "# extracting from pdf and splitting it \n",
    "loader = PyPDFLoader(\"lab_values.pdf\")\n",
    "doc = loader.load()\n",
    "splitter = RecursiveCharacterTextSplitter(chunk_size=500,chunk_overlap=20)\n",
    "document = splitter.split_documents(documents=doc)"
   ]
  },
  {
   "cell_type": "code",
   "execution_count": 9,
   "id": "e22c421a",
   "metadata": {},
   "outputs": [],
   "source": [
    "#storing in vector db\n",
    "os.environ[\"HUGGINGFACEHUB_API_TOKEN\"] = os.getenv(\"hugging-face-api\")\n",
    "embedding = HuggingFaceEmbeddings(model_name=\"sentence-transformers/all-MiniLM-L6-v2\",)\n",
    "\n",
    "db = Chroma(\n",
    "    persist_directory=\"mydb\",\n",
    "    collection_name=\"my_collection\",\n",
    "    embedding_function=embedding\n",
    ")\n",
    "retriever = db.as_retriever(search_kwargs={'k':3})"
   ]
  },
  {
   "cell_type": "code",
   "execution_count": null,
   "id": "fde232e8",
   "metadata": {},
   "outputs": [],
   "source": [
    "# Making pipline\n",
    "# llm = HuggingFaceEndpoint(\n",
    "#     repo_id=\"google/flan-t5-large\",\n",
    "#     max_new_tokens=512,\n",
    "#     temperature=0.3,\n",
    "#     task=\"text2text-generation\"\n",
    "# )\n",
    "llm = ChatGoogleGenerativeAI(api_key=os.getenv('gemini_key'),model=\"gemini-2.0-flash\")\n",
    "# qa = RetrievalQA.from_chain_type(\n",
    "#     retriever = retriever,\n",
    "#     llm = llm,\n",
    "#     chain_type=\"map_reduce\",\n",
    "#     return_source_documents=True\n",
    "# )"
   ]
  },
  {
   "cell_type": "code",
   "execution_count": 16,
   "id": "bc650c0e",
   "metadata": {},
   "outputs": [
    {
     "name": "stderr",
     "output_type": "stream",
     "text": [
      "C:\\Users\\acer\\AppData\\Local\\Temp\\ipykernel_16256\\400608049.py:20: LangChainDeprecationWarning: The class `LLMChain` was deprecated in LangChain 0.1.17 and will be removed in 1.0. Use :meth:`~RunnableSequence, e.g., `prompt | llm`` instead.\n",
      "  qa_chain = LLMChain(llm=llm,prompt=prompt)\n"
     ]
    }
   ],
   "source": [
    "# Making custom pipline\n",
    "prompt = PromptTemplate(\n",
    "    input_variables=[\"patient_report\",\"context\"],\n",
    "    template=\"\"\"\n",
    "You are a medical assistant.\n",
    "\n",
    "Here is a patient's lab report:\n",
    "\n",
    "{patient_report}\n",
    "\n",
    "Here is reference context from clinical guidelines:\n",
    "\n",
    "{context}\n",
    "\n",
    "Analyze the lab report. Explain the abnormal results, and suggest next steps according to standard medical practice.\n",
    "\n",
    "\"\"\"\n",
    ")\n",
    "\n",
    "qa_chain = LLMChain(llm=llm,prompt=prompt)"
   ]
  },
  {
   "cell_type": "code",
   "execution_count": 11,
   "id": "fb4304ed",
   "metadata": {},
   "outputs": [],
   "source": [
    "report_loader = PyPDFLoader(\"sample_lab_report.pdf\")\n",
    "report = report_loader.load()\n",
    "report_text =\"\".join([docs.page_content for docs in report])"
   ]
  },
  {
   "cell_type": "code",
   "execution_count": 17,
   "id": "4a529f15",
   "metadata": {},
   "outputs": [
    {
     "name": "stderr",
     "output_type": "stream",
     "text": [
      "C:\\Users\\acer\\AppData\\Local\\Temp\\ipykernel_16256\\399706216.py:1: LangChainDeprecationWarning: The method `BaseRetriever.get_relevant_documents` was deprecated in langchain-core 0.1.46 and will be removed in 1.0. Use :meth:`~invoke` instead.\n",
      "  lab_docs = retriever.get_relevant_documents(report_text)\n"
     ]
    }
   ],
   "source": [
    "lab_docs = retriever.get_relevant_documents(report_text)\n",
    "context = \"\\n\\n\".join([lab_doc.page_content for lab_doc in lab_docs])"
   ]
  },
  {
   "cell_type": "code",
   "execution_count": 18,
   "id": "9f4cdad5",
   "metadata": {},
   "outputs": [
    {
     "name": "stderr",
     "output_type": "stream",
     "text": [
      "C:\\Users\\acer\\AppData\\Local\\Temp\\ipykernel_16256\\3666711908.py:1: LangChainDeprecationWarning: The method `Chain.run` was deprecated in langchain 0.1.0 and will be removed in 1.0. Use :meth:`~invoke` instead.\n",
      "  result = qa_chain.run({\"patient_report\":report_text,\"context\":context})\n"
     ]
    }
   ],
   "source": [
    "result = qa_chain.run({\"patient_report\":report_text,\"context\":context})"
   ]
  },
  {
   "cell_type": "code",
   "execution_count": 20,
   "id": "09f73ca6",
   "metadata": {},
   "outputs": [
    {
     "name": "stdout",
     "output_type": "stream",
     "text": [
      "Okay, here's an analysis of John Doe's lab report, highlighting the abnormal results and suggesting potential next steps based on standard medical practice:\n",
      "\n",
      "**Analysis of Abnormal Lab Results:**\n",
      "\n",
      "*   **Hemoglobin (Hb): 10.2 g/dL (Low)** - This indicates anemia, meaning John Doe has a lower than normal level of hemoglobin in his blood. Hemoglobin is crucial for carrying oxygen throughout the body.\n",
      "\n",
      "*   **WBC Count: 12.5 x10^9/L (High)** - This indicates leukocytosis, meaning John Doe has a higher than normal white blood cell count. This often suggests an infection, inflammation, or other immune response.\n",
      "\n",
      "*   **Glucose (Fasting): 145 mg/dL (High)** - This indicates hyperglycemia, meaning John Doe has a higher than normal fasting blood glucose level. According to the provided reference, a fasting plasma glucose (FPG) of ≥ 126 mg/dL is diagnostic of diabetes. John Doe's result of 145 mg/dL meets this criterion.\n",
      "\n",
      "*   **ALT (SGPT): 65 U/L (High)** - This indicates elevated liver enzymes. ALT is an enzyme primarily found in the liver, and elevated levels suggest liver damage or inflammation.\n",
      "\n",
      "*   **Creatinine: 1.8 mg/dL (High)** - This indicates impaired kidney function. Creatinine is a waste product filtered by the kidneys, and elevated levels suggest the kidneys are not functioning optimally.\n",
      "\n",
      "**Summary of Abnormal Results:**\n",
      "\n",
      "John Doe's lab results indicate:\n",
      "\n",
      "*   Anemia\n",
      "*   Possible infection or inflammation\n",
      "*   Diabetes\n",
      "*   Possible liver damage or inflammation\n",
      "*   Impaired kidney function\n",
      "\n",
      "**Suggested Next Steps:**\n",
      "\n",
      "Given these abnormal results, the following next steps are recommended:\n",
      "\n",
      "1.  **Physician Review:** The most important step is for the physician to review the entire lab report in the context of John Doe's medical history, current medications, and any reported symptoms.\n",
      "\n",
      "2.  **Further Diabetes Evaluation:**\n",
      "\n",
      "    *   **HbA1c Test:** Even though the fasting glucose is diagnostic for diabetes, an HbA1c test should be ordered to confirm the diagnosis and assess long-term glycemic control (average blood sugar levels over the past 2-3 months).\n",
      "    *   **Repeat Fasting Glucose:** A repeat fasting glucose test on a separate day can help confirm the diagnosis.\n",
      "\n",
      "3.  **Investigate Anemia:**\n",
      "\n",
      "    *   **Complete Blood Count (CBC) with Differential:** If not already included, a CBC with differential is crucial. This will provide more detailed information about the types of white blood cells present and other red blood cell indices (e.g., MCV, MCH, MCHC) to help classify the type of anemia.\n",
      "    *   **Iron Studies:** Ferritin, serum iron, TIBC (total iron binding capacity), and transferrin saturation should be ordered to assess for iron deficiency anemia, a common cause.\n",
      "    *   **Vitamin B12 and Folate Levels:** Check for deficiencies in these vitamins, which can also cause anemia.\n",
      "\n",
      "4.  **Investigate Elevated Liver Enzymes (ALT):**\n",
      "\n",
      "    *   **Comprehensive Metabolic Panel (CMP):** If not already done, a CMP provides a broader assessment of liver function, including other liver enzymes (AST, alkaline phosphatase), bilirubin, and albumin.\n",
      "    *   **Further Liver-Specific Testing:** Depending on the CMP results and John Doe's history, the physician may order tests for hepatitis (A, B, C), autoimmune liver diseases, or imaging studies of the liver (e.g., ultrasound).\n",
      "\n",
      "5.  **Investigate Elevated Creatinine:**\n",
      "\n",
      "    *   **Repeat Creatinine and BUN:** A repeat creatinine and BUN (Blood Urea Nitrogen) test can help confirm the kidney function impairment.\n",
      "    *   **eGFR (estimated Glomerular Filtration Rate):** This is often calculated automatically based on the creatinine level and provides an estimate of kidney function.\n",
      "    *   **Urinalysis:** A urinalysis can help detect protein, blood, or other abnormalities in the urine that could indicate kidney disease.\n",
      "    *   **Renal Ultrasound:** If kidney disease is suspected, a renal ultrasound may be ordered to assess the structure of the kidneys.\n",
      "\n",
      "6.  **Address Elevated WBC Count:**\n",
      "\n",
      "    *   **Review Patient History:** The physician should thoroughly review John Doe's recent medical history for any signs or symptoms of infection (fever, cough, pain, etc.).\n",
      "    *   **Physical Exam:** A thorough physical exam is essential to look for any localized areas of infection or inflammation.\n",
      "    *   **Further Testing:** Depending on the clinical picture, further testing may include blood cultures, urine cultures, chest X-ray, or other imaging studies to identify the source of the elevated WBC count.\n",
      "\n",
      "7.  **Lifestyle Recommendations:** Regardless of the specific diagnoses, general lifestyle recommendations for John Doe should include:\n",
      "\n",
      "    *   **Healthy Diet:** Emphasize a balanced diet low in processed foods, sugar, and unhealthy fats.\n",
      "    *   **Regular Exercise:** Encourage regular physical activity, as appropriate for his health status.\n",
      "    *   **Weight Management:** If overweight or obese, weight loss can have significant benefits for glucose control, liver health, and kidney function.\n",
      "    *   **Smoking Cessation:** If John Doe smokes, encourage smoking cessation.\n",
      "    *   **Moderate Alcohol Consumption:** If John Doe drinks alcohol, advise moderation or abstinence, especially given the elevated liver enzymes.\n",
      "\n",
      "**Important Considerations:**\n",
      "\n",
      "*   **Patient Communication:** It's crucial to communicate these results to John Doe in a clear and compassionate manner. Explain the abnormal findings and the importance of further evaluation and management.\n",
      "*   **Documentation:** Document all communication, lab results, and recommendations in John Doe's medical record.\n",
      "*   **Follow-up:** Schedule appropriate follow-up appointments to monitor John Doe's progress and adjust treatment as needed.\n",
      "*   **Context is Key:** This analysis is based solely on the lab report and the provided reference material. The physician must consider the patient's complete medical history, physical exam findings, and other relevant information to make an accurate diagnosis and develop an appropriate treatment plan.\n",
      "\n",
      "**Disclaimer:** As a medical assistant, I can provide information and suggestions based on my knowledge. However, I am not a physician and cannot provide medical diagnoses or treatment recommendations. The physician is ultimately responsible for the patient's care.\n"
     ]
    }
   ],
   "source": [
    "print(result)"
   ]
  },
  {
   "cell_type": "code",
   "execution_count": null,
   "id": "42eecd07",
   "metadata": {},
   "outputs": [],
   "source": []
  }
 ],
 "metadata": {
  "kernelspec": {
   "display_name": "Python 3",
   "language": "python",
   "name": "python3"
  },
  "language_info": {
   "codemirror_mode": {
    "name": "ipython",
    "version": 3
   },
   "file_extension": ".py",
   "mimetype": "text/x-python",
   "name": "python",
   "nbconvert_exporter": "python",
   "pygments_lexer": "ipython3",
   "version": "3.11.5"
  }
 },
 "nbformat": 4,
 "nbformat_minor": 5
}
